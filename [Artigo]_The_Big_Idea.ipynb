{
  "nbformat": 4,
  "nbformat_minor": 0,
  "metadata": {
    "colab": {
      "name": "[Artigo] The Big Idea.ipynb",
      "provenance": [],
      "collapsed_sections": [],
      "authorship_tag": "ABX9TyP/eNProFTo8B3dj9VJlLED",
      "include_colab_link": true
    },
    "kernelspec": {
      "name": "python3",
      "display_name": "Python 3"
    }
  },
  "cells": [
    {
      "cell_type": "markdown",
      "metadata": {
        "id": "view-in-github",
        "colab_type": "text"
      },
      "source": [
        "<a href=\"https://colab.research.google.com/github/brunobf09/Storytelling-with-data/blob/main/%5BArtigo%5D_The_Big_Idea.ipynb\" target=\"_parent\"><img src=\"https://colab.research.google.com/assets/colab-badge.svg\" alt=\"Open In Colab\"/></a>"
      ]
    },
    {
      "cell_type": "markdown",
      "metadata": {
        "id": "nyEt28hAR3Jn"
      },
      "source": [
        "#The Big Idea: contando história com dados\n",
        "##Conceitos para ser objetivo e eficiente na construção de Gráficos\n",
        "---\n",
        "*By:* Bruno Brasil\n",
        "\n",
        "\n",
        "\n",
        "<center>\n",
        "<img src= \"https://image.freepik.com/fotos-gratis/vista-superior-da-equipe-criativa-discutindo-graficos-de-negocios-desenhados-em-canetas_1098-18798.jpg\"> \n",
        "\n",
        "..."
      ]
    },
    {
      "cell_type": "markdown",
      "metadata": {
        "id": "XtPEmvQqAV0h"
      },
      "source": [
        "##Introdução\n",
        "\n",
        " Sabe-se que a visualização de dados é muito requisitada em apresentações do mundo empresarial e acadêmico, nesse contexto, é necessário entender mais sobre o assunto, de forma que, as apresentações sejam bem elaboradas e que a comunicação seja realmente eecebida pelo público-alvo. \n",
        "\n",
        "No artigo anterior, foi dito a respeito de [3 perguntas a serem feitas antes de iniciar a construção de gráficos](https://medium.com/@brunobf09/3-perguntas-iniciais-a-serem-feitas-antes-de-iniciar-a-constru%C3%A7%C3%A3o-de-gr%C3%A1ficos-c3f962c019eb), se você não leu ainda, recomendo fortemente a leitura.\n",
        "\n",
        "Agora, dois conceitos essenciais serão implementados para reduzir a comunicação global a uma única mensagem mais importante, são eles: A história em 3 minutos e a Grande ideia."
      ]
    },
    {
      "cell_type": "markdown",
      "metadata": {
        "id": "fPu2U7rl8IWa"
      },
      "source": [
        "##A história em 3 minutos"
      ]
    },
    {
      "cell_type": "markdown",
      "metadata": {
        "id": "6sN1dx-p8kRj"
      },
      "source": [
        "\n",
        "\n",
        "O conceito de uma história em 3 minutos é declarar de forma concisa, em uma última análise, o que deseja passar ao seu público. Ou seja, se você tivesse apenas três minutos para dizer ao seu público o que ele precisa saber, o que diria?\n",
        "\n",
        "Em contra partida, é necessário o total entendimento do material que será apresentado, entender suas partes mais importantes, e também aquilo que não é essencial. Muitas vezes esse trabalho é mais desafiador do que parece. Como diria o pensador Mark Twain: \"Eu teria escrito uma carta mais curta, mas não tive tempo\"."
      ]
    },
    {
      "cell_type": "markdown",
      "metadata": {
        "id": "984TC6M04qDN"
      },
      "source": [
        "##A grande ideia"
      ]
    },
    {
      "cell_type": "markdown",
      "metadata": {
        "id": "VwAXrTic6ggs"
      },
      "source": [
        "O termo \"*The big idea*\" , traduzido como: \"A grande ideia\", é um conceito criado por Nancy Duarte em seu livro, Ressonância (Alta books,2012). Este conceito traz a ideia de reduzir o objetivo de uma apresentação em uma única frase.\n",
        "\n",
        "Para articular essa frase, vamos utilizar 3 componentes:\n",
        "\n",
        "1.   Articular seu ponto de vista único;\n",
        "2.   Transmitir o que está em jogo; e \n",
        "3.   Ser uma frase completa.\n"
      ]
    },
    {
      "cell_type": "markdown",
      "metadata": {
        "id": "P0Tel0LR_SnY"
      },
      "source": [
        "##Conceitos na prática"
      ]
    },
    {
      "cell_type": "markdown",
      "metadata": {
        "id": "rg85VSYjGxN5"
      },
      "source": [
        "\"Com relação às **274 línguas faladas**, o censo demonstrou que cerca de **17,5%** da população indígena não fala a língua portuguesa.\" \n",
        "\n",
        "(fonte: FUNAI)\n",
        "\n",
        "\n"
      ]
    },
    {
      "cell_type": "markdown",
      "metadata": {
        "id": "MTgciSDjHE7X"
      },
      "source": [
        "A partir da fonte da Funai vamos criar nossa situação hipotética."
      ]
    },
    {
      "cell_type": "markdown",
      "metadata": {
        "id": "yZSwmlLMILXX"
      },
      "source": [
        "Sabendo desse dado, a FUNAI decide fazer uma campanha de patriotismo dos povos indígenas chamada \"Meu Brasil Brasileiro\".\n",
        "\n",
        "Após o término, viu-se a necessidade de adquirir mais fundos para continuar no ano seguinte."
      ]
    },
    {
      "cell_type": "markdown",
      "metadata": {
        "id": "iHWORo7nJfBT"
      },
      "source": [
        "**História de 3 minutos:** Dado que no Brasil cerca de 817.963 mil são indígenas, representando 305 diferentes etnias, percebeu-se que 17,5% não fala a língua portuguesa, apesar de estarem dentro do território nacional. Esse número motivou a criação de uma campanha de conscientização do patriotismo nas diversas aldeias da região norte do país, chamada: \"Meu Brasil brasileiro\". No início da campanha foi questionando se os indígenas se sentiam brasileiros, retornando 44% como resposta positiva. Após o término, notou-se que houve um aumento para 70% do total de indígenas com a percepção positiva de serem brasileiros. Esse dado demonstra o sucesso da campanha e a necessidade de não apenas continuar, mas também expandir o alcance além da região norte."
      ]
    },
    {
      "cell_type": "markdown",
      "metadata": {
        "id": "jxN5CcXnM7Uk"
      },
      "source": [
        "**Grande ideia:** A campanha foi um sucesso na percepção positiva dos indígenas se sentirem brasileiros e, graças as esse sucesso, solicitamos a aprovação do orçamento para sua continuação e expansão."
      ]
    },
    {
      "cell_type": "markdown",
      "metadata": {
        "id": "PIvc9cxGVLub"
      },
      "source": [
        "Com a história articulada de maneira clara e concisa , criar o conteúdo gráfico se tornará mais fácil."
      ]
    },
    {
      "cell_type": "code",
      "metadata": {
        "id": "5F3UdsAjm4gi"
      },
      "source": [
        "#@title\n",
        "#importando bibliotecas\n",
        "import matplotlib.pyplot as plt\n",
        "import pandas as pd\n",
        "import numpy as np"
      ],
      "execution_count": null,
      "outputs": []
    },
    {
      "cell_type": "code",
      "metadata": {
        "id": "3ZQpwl1hm6RV"
      },
      "source": [
        "#@title\n",
        "#criando dados\n",
        "labels = ['Fortemente\\nNegativa', 'Negativa', 'Neutra', 'Positiva', 'Fortemente\\nPositiva']\n",
        "antes = [11, 15, 30, 25, 19]\n",
        "depois = [10, 6, 14, 32, 38] \n"
      ],
      "execution_count": null,
      "outputs": []
    },
    {
      "cell_type": "code",
      "metadata": {
        "id": "Anuy514AnH_F"
      },
      "source": [
        "#@title\n",
        "# configurando parâmetros das fontes\n",
        "plt.rcParams['font.family'] = 'sans-serif'\n",
        "\n",
        "# definindo cores do gráfico\n",
        "CINZA1, CINZA2, CINZA3= \"#CFCDCE\", \"#A2A1A3\", \"#787878\"\n",
        "AZUL1, AZUL2 = \"#8db7eb\", \"#253760\""
      ],
      "execution_count": null,
      "outputs": []
    },
    {
      "cell_type": "code",
      "metadata": {
        "id": "Zc_bUDIBm9g3",
        "colab": {
          "base_uri": "https://localhost:8080/",
          "height": 280
        },
        "outputId": "84f45288-ff75-4967-fd29-6ad2811ac288"
      },
      "source": [
        "#@title\n",
        "#criando um Fig\n",
        "fig, ax = plt.subplots(figsize=(8,4))\n",
        "\n",
        "# definir cores por plot\n",
        "cores_antes = [CINZA2, CINZA2, CINZA2, CINZA2, CINZA2]\n",
        "cores_depois = [AZUL2, AZUL2, AZUL2, AZUL2, AZUL2]\n",
        "\n",
        "#plotando antes e depois\n",
        "x = np.arange(len(labels))\n",
        "width_bar = 0.35\n",
        "bar1 = ax.bar(x-width_bar/2, antes, width_bar, label=\"Antes\", color = cores_antes)\n",
        "bar2 = ax.bar(x+width_bar/2, depois, width_bar, label=\"depois\", color=cores_depois)\n",
        "\n",
        "#legendado eixo\n",
        "ax.set_xticks(x)\n",
        "ax.set_xticklabels(labels)\n",
        "ax.set_ylabel(\"Porcentagem\")\n",
        "\n",
        "#Título (remoção do Títuo)\n",
        "#ax.set_title(\"Operação Acolhida\", Fontsize=16)\n",
        "\n",
        "#Remoção da legenda\n",
        "#ax.legend()\n",
        "\n",
        "#Remoção das bordas\n",
        "ax.spines[\"top\"].set_visible(False)\n",
        "ax.spines[\"right\"].set_visible(False)\n",
        "ax.spines[\"left\"].set_visible(False)\n",
        "ax.spines[\"bottom\"].set_visible(False)\n",
        "\n",
        "#Remoção do eixo y\n",
        "plt.gca().axes.get_yaxis().set_visible(False)\n",
        "\n",
        "# remover xticks do eixo x (por vezes não necessita esses códigos)\n",
        "plt.tick_params(\n",
        "    axis='both',         \n",
        "    which='both',     \n",
        "    bottom=False,      \n",
        "    top=False,         \n",
        "    labelbottom=True) \n",
        "\n",
        "#criar função para dar labels automaticamente\n",
        "def autolabel(bars):\n",
        "    for bar in bars:\n",
        "        height = bar.get_height()\n",
        "        ax.annotate(\n",
        "                    '{}%'.format(height),\n",
        "                    xy=(bar.get_x() + bar.get_width()/2,  height),\n",
        "                    xytext=(0, -20),  # offset\n",
        "                    textcoords=\"offset points\",\n",
        "                    ha='center',\n",
        "                    va='bottom',\n",
        "                    fontsize=10,\n",
        "                    color=\"white\",\n",
        "                    )\n",
        "        \n",
        "# plotar labels dentro das barras\n",
        "autolabel(bar1)\n",
        "autolabel(bar2)\n",
        "\n",
        "# plotar título\n",
        "plt.text(-0.35, 52, 'A campanha foi um sucesso',\n",
        "         fontsize=16, \n",
        "         color=AZUL2,\n",
        "         weight='bold')\n",
        "\n",
        "# plotar subtitulo\n",
        "plt.text(-0.35, 49,\n",
        "         \"Percepção dos indígenas relacionado\\n\"\n",
        "         \"ao sentimento de serem brasileiros.\\n\",\n",
        "         verticalalignment=\"top\",\n",
        "         fontsize=12,\n",
        "         color=CINZA2)\n",
        "\n",
        "\n",
        "# plotar anotações do resultado da campanha\n",
        "plt.text(4.5, 35,\n",
        "         \"$\\\\bf{DEPOIS}$\\n\"\n",
        "         \"Aumento para 70%\\n\"\n",
        "         \"da percepção positiva.\\n\",\n",
        "         verticalalignment=\"top\",\n",
        "         fontsize=10,\n",
        "         color=AZUL2)\n",
        "\n",
        "plt.text(-0.35, 35,\n",
        "         \"$\\\\bf{ANTES}$\\n\"\n",
        "         \"44% da percepção\\n\"\n",
        "         \"positiva.\\n\",\n",
        "         verticalalignment=\"top\",\n",
        "         fontsize=10,\n",
        "         color=CINZA3)\n",
        "\n",
        "#Plotando o Gráfico\n",
        "fig.tight_layout()\n",
        "plt.show()"
      ],
      "execution_count": null,
      "outputs": [
        {
          "output_type": "display_data",
          "data": {
            "image/png": "[encoded data removed]",
            "text/plain": [
              "<Figure size 576x288 with 1 Axes>"
            ]
          },
          "metadata": {
            "tags": [],
            "needs_background": "light"
          }
        }
      ]
    },
    {
      "cell_type": "markdown",
      "metadata": {
        "id": "mBc9gxwMg9qV"
      },
      "source": [
        "##Conclusão\n"
      ]
    },
    {
      "cell_type": "markdown",
      "metadata": {
        "id": "EqYtqzgwlHHK"
      },
      "source": [
        "\n",
        "Entender o contexto do projeto e conseguir reduzir a mensagem principal é o diferencial para tornar mais objetiva a comunicação com dados.\n",
        "\n",
        "A história em 3 minutos e a grande ideia serão ferramentas que irão ajudar na construção de gráficos de forma concisa e eficaz.\n",
        "\n",
        "Se você gostou do conteúdo, recomendo o livro \"Storytelling com Dados: Um guia sobre visualização de dados para profissionais de negócios\" por Cole Nussbaumer Knaflic."
      ]
    }
  ]
}